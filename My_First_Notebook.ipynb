{
 "cells": [
  {
   "cell_type": "code",
   "execution_count": null,
   "id": "a68c9e04-ee1b-4f69-a360-8e1c14bb1971",
   "metadata": {},
   "outputs": [],
   "source": [
    "My first markdown cell in Jupyter"
   ]
  },
  {
   "cell_type": "code",
   "execution_count": null,
   "id": "4db7540b-2785-4387-a0fe-7421ae51e98b",
   "metadata": {},
   "outputs": [],
   "source": [
    "print(\"Hello, World!\"))"
   ]
  }
 ],
 "metadata": {
  "kernelspec": {
   "display_name": "Python 3 (ipykernel)",
   "language": "python",
   "name": "python3"
  },
  "language_info": {
   "name": ""
  }
 },
 "nbformat": 4,
 "nbformat_minor": 5
}
